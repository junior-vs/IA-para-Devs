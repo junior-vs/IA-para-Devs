{
 "cells": [
  {
   "cell_type": "code",
   "execution_count": 1,
   "id": "e80446f7",
   "metadata": {},
   "outputs": [
    {
     "name": "stdout",
     "output_type": "stream",
     "text": [
      "Requirement already satisfied: pandas in c:\\users\\junio\\develop\\repos\\ia-para-devs\\fiap-labs\\fase1\\tech-challenge\\venv\\lib\\site-packages (2.3.0)\n",
      "Requirement already satisfied: numpy in c:\\users\\junio\\develop\\repos\\ia-para-devs\\fiap-labs\\fase1\\tech-challenge\\venv\\lib\\site-packages (2.3.1)\n",
      "Requirement already satisfied: seaborn in c:\\users\\junio\\develop\\repos\\ia-para-devs\\fiap-labs\\fase1\\tech-challenge\\venv\\lib\\site-packages (0.13.2)\n",
      "Requirement already satisfied: matplotlib in c:\\users\\junio\\develop\\repos\\ia-para-devs\\fiap-labs\\fase1\\tech-challenge\\venv\\lib\\site-packages (3.10.3)\n",
      "Requirement already satisfied: scikit-learn in c:\\users\\junio\\develop\\repos\\ia-para-devs\\fiap-labs\\fase1\\tech-challenge\\venv\\lib\\site-packages (1.7.0)\n",
      "Requirement already satisfied: python-dateutil>=2.8.2 in c:\\users\\junio\\develop\\repos\\ia-para-devs\\fiap-labs\\fase1\\tech-challenge\\venv\\lib\\site-packages (from pandas) (2.9.0.post0)\n",
      "Requirement already satisfied: pytz>=2020.1 in c:\\users\\junio\\develop\\repos\\ia-para-devs\\fiap-labs\\fase1\\tech-challenge\\venv\\lib\\site-packages (from pandas) (2025.2)\n",
      "Requirement already satisfied: tzdata>=2022.7 in c:\\users\\junio\\develop\\repos\\ia-para-devs\\fiap-labs\\fase1\\tech-challenge\\venv\\lib\\site-packages (from pandas) (2025.2)\n",
      "Requirement already satisfied: contourpy>=1.0.1 in c:\\users\\junio\\develop\\repos\\ia-para-devs\\fiap-labs\\fase1\\tech-challenge\\venv\\lib\\site-packages (from matplotlib) (1.3.2)\n",
      "Requirement already satisfied: cycler>=0.10 in c:\\users\\junio\\develop\\repos\\ia-para-devs\\fiap-labs\\fase1\\tech-challenge\\venv\\lib\\site-packages (from matplotlib) (0.12.1)\n",
      "Requirement already satisfied: fonttools>=4.22.0 in c:\\users\\junio\\develop\\repos\\ia-para-devs\\fiap-labs\\fase1\\tech-challenge\\venv\\lib\\site-packages (from matplotlib) (4.58.4)\n",
      "Requirement already satisfied: kiwisolver>=1.3.1 in c:\\users\\junio\\develop\\repos\\ia-para-devs\\fiap-labs\\fase1\\tech-challenge\\venv\\lib\\site-packages (from matplotlib) (1.4.8)\n",
      "Requirement already satisfied: packaging>=20.0 in c:\\users\\junio\\develop\\repos\\ia-para-devs\\fiap-labs\\fase1\\tech-challenge\\venv\\lib\\site-packages (from matplotlib) (25.0)\n",
      "Requirement already satisfied: pillow>=8 in c:\\users\\junio\\develop\\repos\\ia-para-devs\\fiap-labs\\fase1\\tech-challenge\\venv\\lib\\site-packages (from matplotlib) (11.2.1)\n",
      "Requirement already satisfied: pyparsing>=2.3.1 in c:\\users\\junio\\develop\\repos\\ia-para-devs\\fiap-labs\\fase1\\tech-challenge\\venv\\lib\\site-packages (from matplotlib) (3.2.3)\n",
      "Requirement already satisfied: scipy>=1.8.0 in c:\\users\\junio\\develop\\repos\\ia-para-devs\\fiap-labs\\fase1\\tech-challenge\\venv\\lib\\site-packages (from scikit-learn) (1.15.3)\n",
      "Requirement already satisfied: joblib>=1.2.0 in c:\\users\\junio\\develop\\repos\\ia-para-devs\\fiap-labs\\fase1\\tech-challenge\\venv\\lib\\site-packages (from scikit-learn) (1.5.1)\n",
      "Requirement already satisfied: threadpoolctl>=3.1.0 in c:\\users\\junio\\develop\\repos\\ia-para-devs\\fiap-labs\\fase1\\tech-challenge\\venv\\lib\\site-packages (from scikit-learn) (3.6.0)\n",
      "Requirement already satisfied: six>=1.5 in c:\\users\\junio\\develop\\repos\\ia-para-devs\\fiap-labs\\fase1\\tech-challenge\\venv\\lib\\site-packages (from python-dateutil>=2.8.2->pandas) (1.17.0)\n",
      "Note: you may need to restart the kernel to use updated packages.\n"
     ]
    }
   ],
   "source": [
    "%pip install pandas numpy seaborn matplotlib scikit-learn\n"
   ]
  },
  {
   "cell_type": "code",
   "execution_count": 3,
   "id": "f47f45d2",
   "metadata": {},
   "outputs": [],
   "source": [
    "# Importando os pacotes do projeto\n",
    "import pandas as pd\n",
    "import numpy as np\n",
    "import seaborn as sns\n",
    "import matplotlib.pyplot as plt\n",
    "import sklearn as sk\n"
   ]
  },
  {
   "cell_type": "code",
   "execution_count": 17,
   "id": "cce8146e",
   "metadata": {},
   "outputs": [],
   "source": [
    "from sklearn.model_selection import train_test_split, GridSearchCV, cross_val_score\n",
    "from sklearn.preprocessing import StandardScaler\n",
    "from sklearn.linear_model import LogisticRegression\n",
    "from sklearn.ensemble import RandomForestClassifier\n",
    "from sklearn.metrics import accuracy_score, classification_report, confusion_matrix, roc_curve, auc\n",
    "#import warnings \n",
    "# warnings.filterwarnings('ignore')"
   ]
  },
  {
   "cell_type": "markdown",
   "id": "a8e9b6b5",
   "metadata": {},
   "source": [
    "# Lista de Tarefas - Workflow\n",
    "Com base no dataset \"Wisconsin Breast Cancer\" e nos objetivos de EDA e Pré-Processamento, aqui está um fluxo de trabalho estruturado, listando as etapas e tarefas essenciais, sem o código.\n",
    "\n",
    "## Etapa 0   \n",
    "### **Tarefa 0: Definir o Objetivo:** \n",
    "Formalizar o problema como uma **classificação binária**: prever se um tumor é Maligno ('M') ou Benigno ('B') com base nas medições fornecidas.\n"
   ]
  },
  {
   "cell_type": "markdown",
   "id": "e5db8502",
   "metadata": {},
   "source": [
    "## Etapa 1: \n",
    "Compreensão e Carregamento dos Dados (Setup Inicial)**\n",
    "\n",
    "### Tarefa 1.1: Carregar o Dataset: \n",
    "Importar os dados (provavelmente de um arquivo CSV) para um DataFrame do pandas.\n"
   ]
  },
  {
   "cell_type": "code",
   "execution_count": 4,
   "id": "1aafa38b",
   "metadata": {},
   "outputs": [
    {
     "data": {
      "application/vnd.microsoft.datawrangler.viewer.v0+json": {
       "columns": [
        {
         "name": "index",
         "rawType": "int64",
         "type": "integer"
        },
        {
         "name": "id",
         "rawType": "int64",
         "type": "integer"
        },
        {
         "name": "diagnosis",
         "rawType": "object",
         "type": "string"
        },
        {
         "name": "radius_mean",
         "rawType": "float64",
         "type": "float"
        },
        {
         "name": "texture_mean",
         "rawType": "float64",
         "type": "float"
        },
        {
         "name": "perimeter_mean",
         "rawType": "float64",
         "type": "float"
        },
        {
         "name": "area_mean",
         "rawType": "float64",
         "type": "float"
        },
        {
         "name": "smoothness_mean",
         "rawType": "float64",
         "type": "float"
        },
        {
         "name": "compactness_mean",
         "rawType": "float64",
         "type": "float"
        },
        {
         "name": "concavity_mean",
         "rawType": "float64",
         "type": "float"
        },
        {
         "name": "concave points_mean",
         "rawType": "float64",
         "type": "float"
        },
        {
         "name": "symmetry_mean",
         "rawType": "float64",
         "type": "float"
        },
        {
         "name": "fractal_dimension_mean",
         "rawType": "float64",
         "type": "float"
        },
        {
         "name": "radius_se",
         "rawType": "float64",
         "type": "float"
        },
        {
         "name": "texture_se",
         "rawType": "float64",
         "type": "float"
        },
        {
         "name": "perimeter_se",
         "rawType": "float64",
         "type": "float"
        },
        {
         "name": "area_se",
         "rawType": "float64",
         "type": "float"
        },
        {
         "name": "smoothness_se",
         "rawType": "float64",
         "type": "float"
        },
        {
         "name": "compactness_se",
         "rawType": "float64",
         "type": "float"
        },
        {
         "name": "concavity_se",
         "rawType": "float64",
         "type": "float"
        },
        {
         "name": "concave points_se",
         "rawType": "float64",
         "type": "float"
        },
        {
         "name": "symmetry_se",
         "rawType": "float64",
         "type": "float"
        },
        {
         "name": "fractal_dimension_se",
         "rawType": "float64",
         "type": "float"
        },
        {
         "name": "radius_worst",
         "rawType": "float64",
         "type": "float"
        },
        {
         "name": "texture_worst",
         "rawType": "float64",
         "type": "float"
        },
        {
         "name": "perimeter_worst",
         "rawType": "float64",
         "type": "float"
        },
        {
         "name": "area_worst",
         "rawType": "float64",
         "type": "float"
        },
        {
         "name": "smoothness_worst",
         "rawType": "float64",
         "type": "float"
        },
        {
         "name": "compactness_worst",
         "rawType": "float64",
         "type": "float"
        },
        {
         "name": "concavity_worst",
         "rawType": "float64",
         "type": "float"
        },
        {
         "name": "concave points_worst",
         "rawType": "float64",
         "type": "float"
        },
        {
         "name": "symmetry_worst",
         "rawType": "float64",
         "type": "float"
        },
        {
         "name": "fractal_dimension_worst",
         "rawType": "float64",
         "type": "float"
        },
        {
         "name": "Unnamed: 32",
         "rawType": "float64",
         "type": "float"
        }
       ],
       "ref": "74cf4b4a-07cb-440b-8b1d-81194c8a95fc",
       "rows": [
        [
         "0",
         "842302",
         "M",
         "17.99",
         "10.38",
         "122.8",
         "1001.0",
         "0.1184",
         "0.2776",
         "0.3001",
         "0.1471",
         "0.2419",
         "0.07871",
         "1.095",
         "0.9053",
         "8.589",
         "153.4",
         "0.006399",
         "0.04904",
         "0.05373",
         "0.01587",
         "0.03003",
         "0.006193",
         "25.38",
         "17.33",
         "184.6",
         "2019.0",
         "0.1622",
         "0.6656",
         "0.7119",
         "0.2654",
         "0.4601",
         "0.1189",
         null
        ],
        [
         "1",
         "842517",
         "M",
         "20.57",
         "17.77",
         "132.9",
         "1326.0",
         "0.08474",
         "0.07864",
         "0.0869",
         "0.07017",
         "0.1812",
         "0.05667",
         "0.5435",
         "0.7339",
         "3.398",
         "74.08",
         "0.005225",
         "0.01308",
         "0.0186",
         "0.0134",
         "0.01389",
         "0.003532",
         "24.99",
         "23.41",
         "158.8",
         "1956.0",
         "0.1238",
         "0.1866",
         "0.2416",
         "0.186",
         "0.275",
         "0.08902",
         null
        ],
        [
         "2",
         "84300903",
         "M",
         "19.69",
         "21.25",
         "130.0",
         "1203.0",
         "0.1096",
         "0.1599",
         "0.1974",
         "0.1279",
         "0.2069",
         "0.05999",
         "0.7456",
         "0.7869",
         "4.585",
         "94.03",
         "0.00615",
         "0.04006",
         "0.03832",
         "0.02058",
         "0.0225",
         "0.004571",
         "23.57",
         "25.53",
         "152.5",
         "1709.0",
         "0.1444",
         "0.4245",
         "0.4504",
         "0.243",
         "0.3613",
         "0.08758",
         null
        ],
        [
         "3",
         "84348301",
         "M",
         "11.42",
         "20.38",
         "77.58",
         "386.1",
         "0.1425",
         "0.2839",
         "0.2414",
         "0.1052",
         "0.2597",
         "0.09744",
         "0.4956",
         "1.156",
         "3.445",
         "27.23",
         "0.00911",
         "0.07458",
         "0.05661",
         "0.01867",
         "0.05963",
         "0.009208",
         "14.91",
         "26.5",
         "98.87",
         "567.7",
         "0.2098",
         "0.8663",
         "0.6869",
         "0.2575",
         "0.6638",
         "0.173",
         null
        ],
        [
         "4",
         "84358402",
         "M",
         "20.29",
         "14.34",
         "135.1",
         "1297.0",
         "0.1003",
         "0.1328",
         "0.198",
         "0.1043",
         "0.1809",
         "0.05883",
         "0.7572",
         "0.7813",
         "5.438",
         "94.44",
         "0.01149",
         "0.02461",
         "0.05688",
         "0.01885",
         "0.01756",
         "0.005115",
         "22.54",
         "16.67",
         "152.2",
         "1575.0",
         "0.1374",
         "0.205",
         "0.4",
         "0.1625",
         "0.2364",
         "0.07678",
         null
        ]
       ],
       "shape": {
        "columns": 33,
        "rows": 5
       }
      },
      "text/html": [
       "<div>\n",
       "<style scoped>\n",
       "    .dataframe tbody tr th:only-of-type {\n",
       "        vertical-align: middle;\n",
       "    }\n",
       "\n",
       "    .dataframe tbody tr th {\n",
       "        vertical-align: top;\n",
       "    }\n",
       "\n",
       "    .dataframe thead th {\n",
       "        text-align: right;\n",
       "    }\n",
       "</style>\n",
       "<table border=\"1\" class=\"dataframe\">\n",
       "  <thead>\n",
       "    <tr style=\"text-align: right;\">\n",
       "      <th></th>\n",
       "      <th>id</th>\n",
       "      <th>diagnosis</th>\n",
       "      <th>radius_mean</th>\n",
       "      <th>texture_mean</th>\n",
       "      <th>perimeter_mean</th>\n",
       "      <th>area_mean</th>\n",
       "      <th>smoothness_mean</th>\n",
       "      <th>compactness_mean</th>\n",
       "      <th>concavity_mean</th>\n",
       "      <th>concave points_mean</th>\n",
       "      <th>...</th>\n",
       "      <th>texture_worst</th>\n",
       "      <th>perimeter_worst</th>\n",
       "      <th>area_worst</th>\n",
       "      <th>smoothness_worst</th>\n",
       "      <th>compactness_worst</th>\n",
       "      <th>concavity_worst</th>\n",
       "      <th>concave points_worst</th>\n",
       "      <th>symmetry_worst</th>\n",
       "      <th>fractal_dimension_worst</th>\n",
       "      <th>Unnamed: 32</th>\n",
       "    </tr>\n",
       "  </thead>\n",
       "  <tbody>\n",
       "    <tr>\n",
       "      <th>0</th>\n",
       "      <td>842302</td>\n",
       "      <td>M</td>\n",
       "      <td>17.99</td>\n",
       "      <td>10.38</td>\n",
       "      <td>122.80</td>\n",
       "      <td>1001.0</td>\n",
       "      <td>0.11840</td>\n",
       "      <td>0.27760</td>\n",
       "      <td>0.3001</td>\n",
       "      <td>0.14710</td>\n",
       "      <td>...</td>\n",
       "      <td>17.33</td>\n",
       "      <td>184.60</td>\n",
       "      <td>2019.0</td>\n",
       "      <td>0.1622</td>\n",
       "      <td>0.6656</td>\n",
       "      <td>0.7119</td>\n",
       "      <td>0.2654</td>\n",
       "      <td>0.4601</td>\n",
       "      <td>0.11890</td>\n",
       "      <td>NaN</td>\n",
       "    </tr>\n",
       "    <tr>\n",
       "      <th>1</th>\n",
       "      <td>842517</td>\n",
       "      <td>M</td>\n",
       "      <td>20.57</td>\n",
       "      <td>17.77</td>\n",
       "      <td>132.90</td>\n",
       "      <td>1326.0</td>\n",
       "      <td>0.08474</td>\n",
       "      <td>0.07864</td>\n",
       "      <td>0.0869</td>\n",
       "      <td>0.07017</td>\n",
       "      <td>...</td>\n",
       "      <td>23.41</td>\n",
       "      <td>158.80</td>\n",
       "      <td>1956.0</td>\n",
       "      <td>0.1238</td>\n",
       "      <td>0.1866</td>\n",
       "      <td>0.2416</td>\n",
       "      <td>0.1860</td>\n",
       "      <td>0.2750</td>\n",
       "      <td>0.08902</td>\n",
       "      <td>NaN</td>\n",
       "    </tr>\n",
       "    <tr>\n",
       "      <th>2</th>\n",
       "      <td>84300903</td>\n",
       "      <td>M</td>\n",
       "      <td>19.69</td>\n",
       "      <td>21.25</td>\n",
       "      <td>130.00</td>\n",
       "      <td>1203.0</td>\n",
       "      <td>0.10960</td>\n",
       "      <td>0.15990</td>\n",
       "      <td>0.1974</td>\n",
       "      <td>0.12790</td>\n",
       "      <td>...</td>\n",
       "      <td>25.53</td>\n",
       "      <td>152.50</td>\n",
       "      <td>1709.0</td>\n",
       "      <td>0.1444</td>\n",
       "      <td>0.4245</td>\n",
       "      <td>0.4504</td>\n",
       "      <td>0.2430</td>\n",
       "      <td>0.3613</td>\n",
       "      <td>0.08758</td>\n",
       "      <td>NaN</td>\n",
       "    </tr>\n",
       "    <tr>\n",
       "      <th>3</th>\n",
       "      <td>84348301</td>\n",
       "      <td>M</td>\n",
       "      <td>11.42</td>\n",
       "      <td>20.38</td>\n",
       "      <td>77.58</td>\n",
       "      <td>386.1</td>\n",
       "      <td>0.14250</td>\n",
       "      <td>0.28390</td>\n",
       "      <td>0.2414</td>\n",
       "      <td>0.10520</td>\n",
       "      <td>...</td>\n",
       "      <td>26.50</td>\n",
       "      <td>98.87</td>\n",
       "      <td>567.7</td>\n",
       "      <td>0.2098</td>\n",
       "      <td>0.8663</td>\n",
       "      <td>0.6869</td>\n",
       "      <td>0.2575</td>\n",
       "      <td>0.6638</td>\n",
       "      <td>0.17300</td>\n",
       "      <td>NaN</td>\n",
       "    </tr>\n",
       "    <tr>\n",
       "      <th>4</th>\n",
       "      <td>84358402</td>\n",
       "      <td>M</td>\n",
       "      <td>20.29</td>\n",
       "      <td>14.34</td>\n",
       "      <td>135.10</td>\n",
       "      <td>1297.0</td>\n",
       "      <td>0.10030</td>\n",
       "      <td>0.13280</td>\n",
       "      <td>0.1980</td>\n",
       "      <td>0.10430</td>\n",
       "      <td>...</td>\n",
       "      <td>16.67</td>\n",
       "      <td>152.20</td>\n",
       "      <td>1575.0</td>\n",
       "      <td>0.1374</td>\n",
       "      <td>0.2050</td>\n",
       "      <td>0.4000</td>\n",
       "      <td>0.1625</td>\n",
       "      <td>0.2364</td>\n",
       "      <td>0.07678</td>\n",
       "      <td>NaN</td>\n",
       "    </tr>\n",
       "  </tbody>\n",
       "</table>\n",
       "<p>5 rows × 33 columns</p>\n",
       "</div>"
      ],
      "text/plain": [
       "         id diagnosis  radius_mean  texture_mean  perimeter_mean  area_mean  \\\n",
       "0    842302         M        17.99         10.38          122.80     1001.0   \n",
       "1    842517         M        20.57         17.77          132.90     1326.0   \n",
       "2  84300903         M        19.69         21.25          130.00     1203.0   \n",
       "3  84348301         M        11.42         20.38           77.58      386.1   \n",
       "4  84358402         M        20.29         14.34          135.10     1297.0   \n",
       "\n",
       "   smoothness_mean  compactness_mean  concavity_mean  concave points_mean  \\\n",
       "0          0.11840           0.27760          0.3001              0.14710   \n",
       "1          0.08474           0.07864          0.0869              0.07017   \n",
       "2          0.10960           0.15990          0.1974              0.12790   \n",
       "3          0.14250           0.28390          0.2414              0.10520   \n",
       "4          0.10030           0.13280          0.1980              0.10430   \n",
       "\n",
       "   ...  texture_worst  perimeter_worst  area_worst  smoothness_worst  \\\n",
       "0  ...          17.33           184.60      2019.0            0.1622   \n",
       "1  ...          23.41           158.80      1956.0            0.1238   \n",
       "2  ...          25.53           152.50      1709.0            0.1444   \n",
       "3  ...          26.50            98.87       567.7            0.2098   \n",
       "4  ...          16.67           152.20      1575.0            0.1374   \n",
       "\n",
       "   compactness_worst  concavity_worst  concave points_worst  symmetry_worst  \\\n",
       "0             0.6656           0.7119                0.2654          0.4601   \n",
       "1             0.1866           0.2416                0.1860          0.2750   \n",
       "2             0.4245           0.4504                0.2430          0.3613   \n",
       "3             0.8663           0.6869                0.2575          0.6638   \n",
       "4             0.2050           0.4000                0.1625          0.2364   \n",
       "\n",
       "   fractal_dimension_worst  Unnamed: 32  \n",
       "0                  0.11890          NaN  \n",
       "1                  0.08902          NaN  \n",
       "2                  0.08758          NaN  \n",
       "3                  0.17300          NaN  \n",
       "4                  0.07678          NaN  \n",
       "\n",
       "[5 rows x 33 columns]"
      ]
     },
     "execution_count": 4,
     "metadata": {},
     "output_type": "execute_result"
    }
   ],
   "source": [
    "data = pd.read_csv('../data/data.csv', sep=',')\n",
    "# Exibindo as primeiras linhas do DataFrame\n",
    "data.head()"
   ]
  },
  {
   "cell_type": "markdown",
   "id": "53be459d",
   "metadata": {},
   "source": [
    "### Tarefa 1.2: Visão Geral Inicial:\n",
    "Realizar uma primeira inspeção para entender as dimensões do dataset (número de linhas e colunas) e os tipos de dados de cada coluna.\n",
    "\n"
   ]
  },
  {
   "cell_type": "code",
   "execution_count": null,
   "id": "1761a450",
   "metadata": {},
   "outputs": [
    {
     "name": "stdout",
     "output_type": "stream",
     "text": [
      "----------- Informações Gerais do DataFrame -----------\n",
      "\n",
      "-----------\n",
      "<class 'pandas.core.frame.DataFrame'>\n",
      "RangeIndex: 569 entries, 0 to 568\n",
      "Data columns (total 33 columns):\n",
      " #   Column                   Non-Null Count  Dtype  \n",
      "---  ------                   --------------  -----  \n",
      " 0   id                       569 non-null    int64  \n",
      " 1   diagnosis                569 non-null    object \n",
      " 2   radius_mean              569 non-null    float64\n",
      " 3   texture_mean             569 non-null    float64\n",
      " 4   perimeter_mean           569 non-null    float64\n",
      " 5   area_mean                569 non-null    float64\n",
      " 6   smoothness_mean          569 non-null    float64\n",
      " 7   compactness_mean         569 non-null    float64\n",
      " 8   concavity_mean           569 non-null    float64\n",
      " 9   concave points_mean      569 non-null    float64\n",
      " 10  symmetry_mean            569 non-null    float64\n",
      " 11  fractal_dimension_mean   569 non-null    float64\n",
      " 12  radius_se                569 non-null    float64\n",
      " 13  texture_se               569 non-null    float64\n",
      " 14  perimeter_se             569 non-null    float64\n",
      " 15  area_se                  569 non-null    float64\n",
      " 16  smoothness_se            569 non-null    float64\n",
      " 17  compactness_se           569 non-null    float64\n",
      " 18  concavity_se             569 non-null    float64\n",
      " 19  concave points_se        569 non-null    float64\n",
      " 20  symmetry_se              569 non-null    float64\n",
      " 21  fractal_dimension_se     569 non-null    float64\n",
      " 22  radius_worst             569 non-null    float64\n",
      " 23  texture_worst            569 non-null    float64\n",
      " 24  perimeter_worst          569 non-null    float64\n",
      " 25  area_worst               569 non-null    float64\n",
      " 26  smoothness_worst         569 non-null    float64\n",
      " 27  compactness_worst        569 non-null    float64\n",
      " 28  concavity_worst          569 non-null    float64\n",
      " 29  concave points_worst     569 non-null    float64\n",
      " 30  symmetry_worst           569 non-null    float64\n",
      " 31  fractal_dimension_worst  569 non-null    float64\n",
      " 32  Unnamed: 32              0 non-null      float64\n",
      "dtypes: float64(31), int64(1), object(1)\n",
      "memory usage: 146.8+ KB\n",
      "----------- Estatísticas Descritivas -----------\n",
      "\n",
      "-----------\n",
      "                         count          mean           std          min  \\\n",
      "id                       569.0  3.037183e+07  1.250206e+08  8670.000000   \n",
      "radius_mean              569.0  1.412729e+01  3.524049e+00     6.981000   \n",
      "texture_mean             569.0  1.928965e+01  4.301036e+00     9.710000   \n",
      "perimeter_mean           569.0  9.196903e+01  2.429898e+01    43.790000   \n",
      "area_mean                569.0  6.548891e+02  3.519141e+02   143.500000   \n",
      "smoothness_mean          569.0  9.636028e-02  1.406413e-02     0.052630   \n",
      "compactness_mean         569.0  1.043410e-01  5.281276e-02     0.019380   \n",
      "concavity_mean           569.0  8.879932e-02  7.971981e-02     0.000000   \n",
      "concave points_mean      569.0  4.891915e-02  3.880284e-02     0.000000   \n",
      "symmetry_mean            569.0  1.811619e-01  2.741428e-02     0.106000   \n",
      "fractal_dimension_mean   569.0  6.279761e-02  7.060363e-03     0.049960   \n",
      "radius_se                569.0  4.051721e-01  2.773127e-01     0.111500   \n",
      "texture_se               569.0  1.216853e+00  5.516484e-01     0.360200   \n",
      "perimeter_se             569.0  2.866059e+00  2.021855e+00     0.757000   \n",
      "area_se                  569.0  4.033708e+01  4.549101e+01     6.802000   \n",
      "smoothness_se            569.0  7.040979e-03  3.002518e-03     0.001713   \n",
      "compactness_se           569.0  2.547814e-02  1.790818e-02     0.002252   \n",
      "concavity_se             569.0  3.189372e-02  3.018606e-02     0.000000   \n",
      "concave points_se        569.0  1.179614e-02  6.170285e-03     0.000000   \n",
      "symmetry_se              569.0  2.054230e-02  8.266372e-03     0.007882   \n",
      "fractal_dimension_se     569.0  3.794904e-03  2.646071e-03     0.000895   \n",
      "radius_worst             569.0  1.626919e+01  4.833242e+00     7.930000   \n",
      "texture_worst            569.0  2.567722e+01  6.146258e+00    12.020000   \n",
      "perimeter_worst          569.0  1.072612e+02  3.360254e+01    50.410000   \n",
      "area_worst               569.0  8.805831e+02  5.693570e+02   185.200000   \n",
      "smoothness_worst         569.0  1.323686e-01  2.283243e-02     0.071170   \n",
      "compactness_worst        569.0  2.542650e-01  1.573365e-01     0.027290   \n",
      "concavity_worst          569.0  2.721885e-01  2.086243e-01     0.000000   \n",
      "concave points_worst     569.0  1.146062e-01  6.573234e-02     0.000000   \n",
      "symmetry_worst           569.0  2.900756e-01  6.186747e-02     0.156500   \n",
      "fractal_dimension_worst  569.0  8.394582e-02  1.806127e-02     0.055040   \n",
      "Unnamed: 32                0.0           NaN           NaN          NaN   \n",
      "\n",
      "                                   25%            50%           75%  \\\n",
      "id                       869218.000000  906024.000000  8.813129e+06   \n",
      "radius_mean                  11.700000      13.370000  1.578000e+01   \n",
      "texture_mean                 16.170000      18.840000  2.180000e+01   \n",
      "perimeter_mean               75.170000      86.240000  1.041000e+02   \n",
      "area_mean                   420.300000     551.100000  7.827000e+02   \n",
      "smoothness_mean               0.086370       0.095870  1.053000e-01   \n",
      "compactness_mean              0.064920       0.092630  1.304000e-01   \n",
      "concavity_mean                0.029560       0.061540  1.307000e-01   \n",
      "concave points_mean           0.020310       0.033500  7.400000e-02   \n",
      "symmetry_mean                 0.161900       0.179200  1.957000e-01   \n",
      "fractal_dimension_mean        0.057700       0.061540  6.612000e-02   \n",
      "radius_se                     0.232400       0.324200  4.789000e-01   \n",
      "texture_se                    0.833900       1.108000  1.474000e+00   \n",
      "perimeter_se                  1.606000       2.287000  3.357000e+00   \n",
      "area_se                      17.850000      24.530000  4.519000e+01   \n",
      "smoothness_se                 0.005169       0.006380  8.146000e-03   \n",
      "compactness_se                0.013080       0.020450  3.245000e-02   \n",
      "concavity_se                  0.015090       0.025890  4.205000e-02   \n",
      "concave points_se             0.007638       0.010930  1.471000e-02   \n",
      "symmetry_se                   0.015160       0.018730  2.348000e-02   \n",
      "fractal_dimension_se          0.002248       0.003187  4.558000e-03   \n",
      "radius_worst                 13.010000      14.970000  1.879000e+01   \n",
      "texture_worst                21.080000      25.410000  2.972000e+01   \n",
      "perimeter_worst              84.110000      97.660000  1.254000e+02   \n",
      "area_worst                  515.300000     686.500000  1.084000e+03   \n",
      "smoothness_worst              0.116600       0.131300  1.460000e-01   \n",
      "compactness_worst             0.147200       0.211900  3.391000e-01   \n",
      "concavity_worst               0.114500       0.226700  3.829000e-01   \n",
      "concave points_worst          0.064930       0.099930  1.614000e-01   \n",
      "symmetry_worst                0.250400       0.282200  3.179000e-01   \n",
      "fractal_dimension_worst       0.071460       0.080040  9.208000e-02   \n",
      "Unnamed: 32                        NaN            NaN           NaN   \n",
      "\n",
      "                                  max  \n",
      "id                       9.113205e+08  \n",
      "radius_mean              2.811000e+01  \n",
      "texture_mean             3.928000e+01  \n",
      "perimeter_mean           1.885000e+02  \n",
      "area_mean                2.501000e+03  \n",
      "smoothness_mean          1.634000e-01  \n",
      "compactness_mean         3.454000e-01  \n",
      "concavity_mean           4.268000e-01  \n",
      "concave points_mean      2.012000e-01  \n",
      "symmetry_mean            3.040000e-01  \n",
      "fractal_dimension_mean   9.744000e-02  \n",
      "radius_se                2.873000e+00  \n",
      "texture_se               4.885000e+00  \n",
      "perimeter_se             2.198000e+01  \n",
      "area_se                  5.422000e+02  \n",
      "smoothness_se            3.113000e-02  \n",
      "compactness_se           1.354000e-01  \n",
      "concavity_se             3.960000e-01  \n",
      "concave points_se        5.279000e-02  \n",
      "symmetry_se              7.895000e-02  \n",
      "fractal_dimension_se     2.984000e-02  \n",
      "radius_worst             3.604000e+01  \n",
      "texture_worst            4.954000e+01  \n",
      "perimeter_worst          2.512000e+02  \n",
      "area_worst               4.254000e+03  \n",
      "smoothness_worst         2.226000e-01  \n",
      "compactness_worst        1.058000e+00  \n",
      "concavity_worst          1.252000e+00  \n",
      "concave points_worst     2.910000e-01  \n",
      "symmetry_worst           6.638000e-01  \n",
      "fractal_dimension_worst  2.075000e-01  \n",
      "Unnamed: 32                       NaN  \n",
      "\n",
      "-----------\n",
      "(569, 33)\n",
      "\n",
      "-----------\n",
      "Index(['id', 'diagnosis', 'radius_mean', 'texture_mean', 'perimeter_mean',\n",
      "       'area_mean', 'smoothness_mean', 'compactness_mean', 'concavity_mean',\n",
      "       'concave points_mean', 'symmetry_mean', 'fractal_dimension_mean',\n",
      "       'radius_se', 'texture_se', 'perimeter_se', 'area_se', 'smoothness_se',\n",
      "       'compactness_se', 'concavity_se', 'concave points_se', 'symmetry_se',\n",
      "       'fractal_dimension_se', 'radius_worst', 'texture_worst',\n",
      "       'perimeter_worst', 'area_worst', 'smoothness_worst',\n",
      "       'compactness_worst', 'concavity_worst', 'concave points_worst',\n",
      "       'symmetry_worst', 'fractal_dimension_worst', 'Unnamed: 32'],\n",
      "      dtype='object')\n"
     ]
    }
   ],
   "source": [
    "print(\"----------- Informações Gerais do DataFrame -----------\")\n",
    "print(\"\\n-----------\")\n",
    "data.info()\n",
    "\n",
    "print(\"----------- Estatísticas Descritivas -----------\")\n",
    "print(\"\\n-----------\")\n",
    "print(data.describe().T)\n",
    "print(\"\\n-----------\")\n",
    "print(data.shape)\n",
    "print(\"\\n-----------\")\n",
    "print(data.columns)\n",
    "\n",
    "\n",
    "\n"
   ]
  },
  {
   "cell_type": "code",
   "execution_count": 26,
   "id": "003c2a39",
   "metadata": {},
   "outputs": [
    {
     "name": "stdout",
     "output_type": "stream",
     "text": [
      "----------- Informações Valores Ausentes -----------\n",
      "id                           0\n",
      "diagnosis                    0\n",
      "radius_mean                  0\n",
      "texture_mean                 0\n",
      "perimeter_mean               0\n",
      "area_mean                    0\n",
      "smoothness_mean              0\n",
      "compactness_mean             0\n",
      "concavity_mean               0\n",
      "concave points_mean          0\n",
      "symmetry_mean                0\n",
      "fractal_dimension_mean       0\n",
      "radius_se                    0\n",
      "texture_se                   0\n",
      "perimeter_se                 0\n",
      "area_se                      0\n",
      "smoothness_se                0\n",
      "compactness_se               0\n",
      "concavity_se                 0\n",
      "concave points_se            0\n",
      "symmetry_se                  0\n",
      "fractal_dimension_se         0\n",
      "radius_worst                 0\n",
      "texture_worst                0\n",
      "perimeter_worst              0\n",
      "area_worst                   0\n",
      "smoothness_worst             0\n",
      "compactness_worst            0\n",
      "concavity_worst              0\n",
      "concave points_worst         0\n",
      "symmetry_worst               0\n",
      "fractal_dimension_worst      0\n",
      "Unnamed: 32                569\n",
      "dtype: int64\n"
     ]
    }
   ],
   "source": [
    "\n",
    "print(\"----------- Informações Valores Ausentes -----------\")\n",
    "print(data.isnull().sum())\n"
   ]
  },
  {
   "cell_type": "markdown",
   "id": "08617123",
   "metadata": {},
   "source": [
    "## Etapa 2: Análise de Qualidade dos Dados (Data Quality Assessment)\n",
    "### Tarefa 2.1: Verificar Valores Ausentes:\n",
    "Inspecionar sistematicamente cada coluna em busca de valores nulos (NaN) ou placeholders. Identificar e quantificar o problema.\n",
    "### Tarefa 2.2: Remover Colunas Irrelevantes:\n",
    "Eliminar colunas que não contêm informação útil, como a coluna `id` (que é apenas um identificador) e a coluna `Unnamed: 32` (que está completamente vazia).\n"
   ]
  },
  {
   "cell_type": "code",
   "execution_count": 36,
   "id": "739cf9b6",
   "metadata": {},
   "outputs": [
    {
     "name": "stdout",
     "output_type": "stream",
     "text": [
      "\n",
      "----------- Verificação de Nulos -----------\n",
      "Linhas Nulos: id                           0\n",
      "diagnosis                    0\n",
      "radius_mean                  0\n",
      "texture_mean                 0\n",
      "perimeter_mean               0\n",
      "area_mean                    0\n",
      "smoothness_mean              0\n",
      "compactness_mean             0\n",
      "concavity_mean               0\n",
      "concave points_mean          0\n",
      "symmetry_mean                0\n",
      "fractal_dimension_mean       0\n",
      "radius_se                    0\n",
      "texture_se                   0\n",
      "perimeter_se                 0\n",
      "area_se                      0\n",
      "smoothness_se                0\n",
      "compactness_se               0\n",
      "concavity_se                 0\n",
      "concave points_se            0\n",
      "symmetry_se                  0\n",
      "fractal_dimension_se         0\n",
      "radius_worst                 0\n",
      "texture_worst                0\n",
      "perimeter_worst              0\n",
      "area_worst                   0\n",
      "smoothness_worst             0\n",
      "compactness_worst            0\n",
      "concavity_worst              0\n",
      "concave points_worst         0\n",
      "symmetry_worst               0\n",
      "fractal_dimension_worst      0\n",
      "Unnamed: 32                569\n",
      "dtype: int64\n"
     ]
    }
   ],
   "source": [
    "print(\"\\n----------- Verificação de Nulos -----------\")\n",
    "print(f\"Linhas Nulos: {data.isnull().sum()}\")"
   ]
  },
  {
   "cell_type": "markdown",
   "id": "f0a78312",
   "metadata": {},
   "source": [
    "</br>Chamou a atenção a coluna Unnamed:32\n",
    "</br>Vamos adicionar um passo de confirmação para entender a dimensão do problema"
   ]
  },
  {
   "cell_type": "code",
   "execution_count": null,
   "id": "742f1192",
   "metadata": {},
   "outputs": [
    {
     "name": "stdout",
     "output_type": "stream",
     "text": [
      "Total de linhas: 569\n",
      "Total de valores ausentes na coluna 'Unnamed: 32': 569\n",
      "Porcentagem de valores ausentes na coluna 'Unnamed: 32': 100.00%\n"
     ]
    }
   ],
   "source": [
    "# \n",
    "total_rows = len(data)\n",
    "null_count_unnamed = data['Unnamed: 32'].isnull().sum()\n",
    "percentage_null_unnamed = (null_count_unnamed / total_rows) * 100\n",
    "print(f\"Total de linhas: {total_rows}\")\n",
    "print(f\"Total de valores ausentes na coluna 'Unnamed: 32': {null_count_unnamed}\")\n",
    "print(f\"Porcentagem de valores ausentes na coluna 'Unnamed: 32': {percentage_null_unnamed:.2f}%\")\n",
    "\n"
   ]
  },
  {
   "cell_type": "markdown",
   "id": "d1d6ee00",
   "metadata": {},
   "source": [
    "- Coluna 100% Nula (Unnamed: 32): A coluna Unnamed: 32 contém 569 valores ausentes.\n",
    "- Impacto: Nulo para análise (já que não contém informação), mas prejudicial para a modelagem. A coluna adiciona ruído, ocupa memória e pode causar erros em pipelines de automação se não for tratada.\n",
    "\n",
    "**Solução**: A solução para uma coluna 100% nula é direta e objetiva: removê-la. Manter uma coluna sem nenhuma informação não agrega valor à análise ou à modelagem.\n"
   ]
  },
  {
   "cell_type": "code",
   "execution_count": 38,
   "id": "8fb3bb23",
   "metadata": {},
   "outputs": [
    {
     "name": "stdout",
     "output_type": "stream",
     "text": [
      "colunas : Index(['id', 'diagnosis', 'radius_mean', 'texture_mean', 'perimeter_mean',\n",
      "       'area_mean', 'smoothness_mean', 'compactness_mean', 'concavity_mean',\n",
      "       'concave points_mean', 'symmetry_mean', 'fractal_dimension_mean',\n",
      "       'radius_se', 'texture_se', 'perimeter_se', 'area_se', 'smoothness_se',\n",
      "       'compactness_se', 'concavity_se', 'concave points_se', 'symmetry_se',\n",
      "       'fractal_dimension_se', 'radius_worst', 'texture_worst',\n",
      "       'perimeter_worst', 'area_worst', 'smoothness_worst',\n",
      "       'compactness_worst', 'concavity_worst', 'concave points_worst',\n",
      "       'symmetry_worst', 'fractal_dimension_worst', 'Unnamed: 32'],\n",
      "      dtype='object')\n",
      "colunas limpas : Index(['id', 'diagnosis', 'radius_mean', 'texture_mean', 'perimeter_mean',\n",
      "       'area_mean', 'smoothness_mean', 'compactness_mean', 'concavity_mean',\n",
      "       'concave points_mean', 'symmetry_mean', 'fractal_dimension_mean',\n",
      "       'radius_se', 'texture_se', 'perimeter_se', 'area_se', 'smoothness_se',\n",
      "       'compactness_se', 'concavity_se', 'concave points_se', 'symmetry_se',\n",
      "       'fractal_dimension_se', 'radius_worst', 'texture_worst',\n",
      "       'perimeter_worst', 'area_worst', 'smoothness_worst',\n",
      "       'compactness_worst', 'concavity_worst', 'concave points_worst',\n",
      "       'symmetry_worst', 'fractal_dimension_worst'],\n",
      "      dtype='object')\n",
      "False\n"
     ]
    }
   ],
   "source": [
    "print(\"colunas :\", data.columns)\n",
    "\n",
    "data_cleaned = data.drop(columns=['Unnamed: 32'])\n",
    "\n",
    "\n",
    "print(\"colunas limpas :\", data_cleaned.columns)\n",
    "\n",
    "print(data_cleaned.isnull().sum().any())"
   ]
  },
  {
   "cell_type": "code",
   "execution_count": null,
   "id": "3c68b3e9",
   "metadata": {},
   "outputs": [
    {
     "name": "stdout",
     "output_type": "stream",
     "text": [
      "diagnosis\n",
      "B    357\n",
      "M    212\n",
      "Name: count, dtype: int64\n",
      "['M' 'B']\n"
     ]
    }
   ],
   "source": [
    "print(\"\\n----------- Verificação de Inconsistências Categóricas -----------\")\n",
    "print(data_cleaned['diagnosis'].value_counts())\n",
    "print(data_cleaned['diagnosis'].unique())"
   ]
  },
  {
   "cell_type": "markdown",
   "id": "fa6b499f",
   "metadata": {},
   "source": [
    "Entemos que a coluna 'diagnosis' é consistente, sem valores diferentes do dominio"
   ]
  },
  {
   "cell_type": "markdown",
   "id": "dd2138ce",
   "metadata": {},
   "source": [
    "Excluir a coluna `id`"
   ]
  },
  {
   "cell_type": "code",
   "execution_count": 39,
   "id": "8537b983",
   "metadata": {},
   "outputs": [
    {
     "name": "stdout",
     "output_type": "stream",
     "text": [
      "colunas limpas : Index(['diagnosis', 'radius_mean', 'texture_mean', 'perimeter_mean',\n",
      "       'area_mean', 'smoothness_mean', 'compactness_mean', 'concavity_mean',\n",
      "       'concave points_mean', 'symmetry_mean', 'fractal_dimension_mean',\n",
      "       'radius_se', 'texture_se', 'perimeter_se', 'area_se', 'smoothness_se',\n",
      "       'compactness_se', 'concavity_se', 'concave points_se', 'symmetry_se',\n",
      "       'fractal_dimension_se', 'radius_worst', 'texture_worst',\n",
      "       'perimeter_worst', 'area_worst', 'smoothness_worst',\n",
      "       'compactness_worst', 'concavity_worst', 'concave points_worst',\n",
      "       'symmetry_worst', 'fractal_dimension_worst'],\n",
      "      dtype='object')\n"
     ]
    }
   ],
   "source": [
    "data_cleaned = data_cleaned.drop(columns=['id'])\n",
    "print(\"colunas limpas :\", data_cleaned.columns)\n"
   ]
  },
  {
   "cell_type": "markdown",
   "id": "128b51ba",
   "metadata": {},
   "source": [
    "### Tarefa 2.3: Verificar Duplicatas:\n",
    "Checar se existem linhas completamente duplicadas no dataset e decidir sobre a estratégia de remoção, se houver."
   ]
  },
  {
   "cell_type": "code",
   "execution_count": 40,
   "id": "30983676",
   "metadata": {},
   "outputs": [
    {
     "name": "stdout",
     "output_type": "stream",
     "text": [
      "\n",
      "----------- Verificação de Duplicados -----------\n",
      "Linhas duplicadas: 0\n"
     ]
    }
   ],
   "source": [
    "print(\"\\n----------- Verificação de Duplicados -----------\")\n",
    "print(f\"Linhas duplicadas: {data_cleaned.duplicated().sum()}\")\n"
   ]
  }
 ],
 "metadata": {
  "kernelspec": {
   "display_name": "venv",
   "language": "python",
   "name": "python3"
  },
  "language_info": {
   "codemirror_mode": {
    "name": "ipython",
    "version": 3
   },
   "file_extension": ".py",
   "mimetype": "text/x-python",
   "name": "python",
   "nbconvert_exporter": "python",
   "pygments_lexer": "ipython3",
   "version": "3.13.5"
  }
 },
 "nbformat": 4,
 "nbformat_minor": 5
}
