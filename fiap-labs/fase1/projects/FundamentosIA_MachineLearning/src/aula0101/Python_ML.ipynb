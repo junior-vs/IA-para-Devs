{
 "cells": [
  {
   "metadata": {},
   "cell_type": "markdown",
   "source": [
    "data = np.array([[1, 2, 3], [4, 5, 6], [7, 8, 9]])\n",
    "mean = np.mean(data)\n",
    "print(mean)"
   ],
   "id": "fe56ef25857724c6"
  },
  {
   "cell_type": "code",
   "id": "initial_id",
   "metadata": {
    "collapsed": true,
    "ExecuteTime": {
     "end_time": "2025-06-19T18:35:29.934034Z",
     "start_time": "2025-06-19T18:35:20.839786Z"
    }
   },
   "source": [
    "%pip install numpy\n",
    "import numpy as np\n"
   ],
   "outputs": [
    {
     "name": "stdout",
     "output_type": "stream",
     "text": [
      "Collecting numpy\n",
      "  Using cached numpy-2.3.0-cp313-cp313-win_amd64.whl.metadata (60 kB)\n",
      "Using cached numpy-2.3.0-cp313-cp313-win_amd64.whl (12.7 MB)\n",
      "Installing collected packages: numpy\n",
      "Successfully installed numpy-2.3.0\n",
      "Note: you may need to restart the kernel to use updated packages.\n"
     ]
    }
   ],
   "execution_count": 1
  },
  {
   "metadata": {},
   "cell_type": "markdown",
   "source": [
    "NumPy é a biblioteca fundamental para computação científica em Python. Oferece suporte para arrays multidimensionais e matrizes, além de fornecer uma coleção abrangente de funções matemáticas para operar esses arrays. O NumPy é essencial para cálculos numéricos eficientes e é a base para muitas outras bibliotecas de ML.\n",
    "\n",
    "Exemplo: calcular a média de uma matriz de dados."
   ],
   "id": "56a96a32589762cf"
  },
  {
   "metadata": {
    "ExecuteTime": {
     "end_time": "2025-06-19T18:38:45.756637Z",
     "start_time": "2025-06-19T18:38:45.369595Z"
    }
   },
   "cell_type": "code",
   "source": [
    "data = np.array([[1, 2, 3], [4, 5, 6], [7, 8, 9]])\n",
    "mean = np.mean(data)\n",
    "print(mean)"
   ],
   "id": "bc9e41fa770410b6",
   "outputs": [
    {
     "name": "stdout",
     "output_type": "stream",
     "text": [
      "5.0\n"
     ]
    }
   ],
   "execution_count": 2
  },
  {
   "metadata": {},
   "cell_type": "markdown",
   "source": "Construída sobre NumPy, a SciPy é utilizada para operações científicas e técnicas avançadas. Inclui módulos para otimização, álgebra linear, integração, interpolação, processamento de sinais e muito mais. É indispensável para resolver problemas complexos de matemática aplicada.\n",
   "id": "5682b707cdb6d2b4"
  },
  {
   "metadata": {
    "ExecuteTime": {
     "end_time": "2025-06-19T18:44:12.641362Z",
     "start_time": "2025-06-19T18:43:45.520346Z"
    }
   },
   "cell_type": "code",
   "source": [
    "%pip install spicy\n",
    "\n",
    "from scipy.integrate import solve_ivp\n"
   ],
   "id": "8dd2d051cb583089",
   "outputs": [
    {
     "name": "stdout",
     "output_type": "stream",
     "text": [
      "Collecting spicy\n",
      "  Downloading spicy-0.16.0-py2.py3-none-any.whl.metadata (310 bytes)\n",
      "Collecting scipy (from spicy)\n",
      "  Using cached scipy-1.15.3-cp313-cp313-win_amd64.whl.metadata (60 kB)\n",
      "Requirement already satisfied: numpy<2.5,>=1.23.5 in c:\\users\\junio\\develop\\repos\\ia-para-devs\\fiap-labs\\fase1\\projects\\fundamentosia_machinelearning\\.venv\\lib\\site-packages (from scipy->spicy) (2.3.0)\n",
      "Downloading spicy-0.16.0-py2.py3-none-any.whl (1.7 kB)\n",
      "Using cached scipy-1.15.3-cp313-cp313-win_amd64.whl (41.0 MB)\n",
      "Installing collected packages: scipy, spicy\n",
      "\n",
      "   ---------------------------------------- 0/2 [scipy]\n",
      "   ---------------------------------------- 0/2 [scipy]\n",
      "   ---------------------------------------- 0/2 [scipy]\n",
      "   ---------------------------------------- 0/2 [scipy]\n",
      "   ---------------------------------------- 0/2 [scipy]\n",
      "   ---------------------------------------- 0/2 [scipy]\n",
      "   ---------------------------------------- 0/2 [scipy]\n",
      "   ---------------------------------------- 0/2 [scipy]\n",
      "   ---------------------------------------- 0/2 [scipy]\n",
      "   ---------------------------------------- 0/2 [scipy]\n",
      "   ---------------------------------------- 0/2 [scipy]\n",
      "   ---------------------------------------- 0/2 [scipy]\n",
      "   ---------------------------------------- 0/2 [scipy]\n",
      "   ---------------------------------------- 0/2 [scipy]\n",
      "   ---------------------------------------- 0/2 [scipy]\n",
      "   ---------------------------------------- 0/2 [scipy]\n",
      "   ---------------------------------------- 0/2 [scipy]\n",
      "   ---------------------------------------- 0/2 [scipy]\n",
      "   ---------------------------------------- 0/2 [scipy]\n",
      "   ---------------------------------------- 0/2 [scipy]\n",
      "   ---------------------------------------- 0/2 [scipy]\n",
      "   ---------------------------------------- 0/2 [scipy]\n",
      "   ---------------------------------------- 0/2 [scipy]\n",
      "   ---------------------------------------- 0/2 [scipy]\n",
      "   ---------------------------------------- 0/2 [scipy]\n",
      "   ---------------------------------------- 0/2 [scipy]\n",
      "   ---------------------------------------- 0/2 [scipy]\n",
      "   ---------------------------------------- 0/2 [scipy]\n",
      "   ---------------------------------------- 0/2 [scipy]\n",
      "   ---------------------------------------- 0/2 [scipy]\n",
      "   ---------------------------------------- 0/2 [scipy]\n",
      "   ---------------------------------------- 0/2 [scipy]\n",
      "   ---------------------------------------- 0/2 [scipy]\n",
      "   ---------------------------------------- 0/2 [scipy]\n",
      "   ---------------------------------------- 0/2 [scipy]\n",
      "   ---------------------------------------- 2/2 [spicy]\n",
      "\n",
      "Successfully installed scipy-1.15.3 spicy-0.16.0\n",
      "Note: you may need to restart the kernel to use updated packages.\n"
     ]
    }
   ],
   "execution_count": 4
  },
  {
   "metadata": {},
   "cell_type": "markdown",
   "source": [
    "Caso de Uso: processamento de imagens onde essas figuras são representadas como matrizes de pixels.\n",
    "\n",
    "Construída sobre NumPy, a SciPy é utilizada para operações científicas e técnicas avançadas. Inclui módulos para otimização, álgebra linear, integração, interpolação, processamento de sinais e muito mais. É indispensável para resolver problemas complexos de matemática aplicada.\n",
    "\n",
    "Exemplo: resolver uma equação diferencial."
   ],
   "id": "255b2ef2227aae5"
  },
  {
   "metadata": {
    "ExecuteTime": {
     "end_time": "2025-06-19T18:44:31.496820Z",
     "start_time": "2025-06-19T18:44:31.441225Z"
    }
   },
   "cell_type": "code",
   "source": [
    "\n",
    "def dydt(t, y):\n",
    "   return -0.5 * y\n",
    "solution = solve_ivp(dydt, [0, 10], [2])\n",
    "print(solution.y)"
   ],
   "id": "1cb3c5b5f638e6e2",
   "outputs": [
    {
     "name": "stdout",
     "output_type": "stream",
     "text": [
      "[[2.         1.88835583 1.0632438  0.43316531 0.18014905 0.07480841\n",
      "  0.03105019 0.01350782]]\n"
     ]
    }
   ],
   "execution_count": 5
  }
 ],
 "metadata": {
  "kernelspec": {
   "display_name": "Python 3",
   "language": "python",
   "name": "python3"
  },
  "language_info": {
   "codemirror_mode": {
    "name": "ipython",
    "version": 2
   },
   "file_extension": ".py",
   "mimetype": "text/x-python",
   "name": "python",
   "nbconvert_exporter": "python",
   "pygments_lexer": "ipython2",
   "version": "2.7.6"
  }
 },
 "nbformat": 4,
 "nbformat_minor": 5
}
