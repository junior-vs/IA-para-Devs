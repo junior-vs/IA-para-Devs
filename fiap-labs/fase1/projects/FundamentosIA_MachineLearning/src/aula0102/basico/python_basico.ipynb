{
 "cells": [
  {
   "metadata": {},
   "cell_type": "markdown",
   "source": [
    "Listas são coleções ordenadas e mutáveis de itens, elas são definidas\n",
    "usando colchetes.\n"
   ],
   "id": "e951d602e3ec849f"
  },
  {
   "metadata": {
    "collapsed": true,
    "ExecuteTime": {
     "end_time": "2025-06-19T19:05:45.476523Z",
     "start_time": "2025-06-19T19:05:45.472891Z"
    }
   },
   "cell_type": "code",
   "outputs": [
    {
     "name": "stdout",
     "output_type": "stream",
     "text": [
      "['maçã', 'banana', 'cereja', 'laranja']\n"
     ]
    }
   ],
   "execution_count": 1,
   "source": [
    "frutas = ['maçã', 'banana', 'cereja']\n",
    "frutas.append('laranja')\n",
    "print(frutas)  # ['maçã', 'banana', 'cereja', 'laranja']"
   ],
   "id": "initial_id"
  },
  {
   "metadata": {},
   "cell_type": "markdown",
   "source": "● Tuplas são coleções ordenadas e imutáveis de itens:",
   "id": "13fb6de402a063c6"
  },
  {
   "metadata": {
    "ExecuteTime": {
     "end_time": "2025-06-19T19:07:01.689083Z",
     "start_time": "2025-06-19T19:07:01.683209Z"
    }
   },
   "cell_type": "code",
   "source": [
    "numeros = (1, 2, 3)\n",
    "print(numeros[1]) # 2\n"
   ],
   "id": "f9ec47ce72f620b",
   "outputs": [
    {
     "name": "stdout",
     "output_type": "stream",
     "text": [
      "2\n"
     ]
    }
   ],
   "execution_count": 2
  }
 ],
 "metadata": {
  "kernelspec": {
   "display_name": "Python 3",
   "language": "python",
   "name": "python3"
  },
  "language_info": {
   "codemirror_mode": {
    "name": "ipython",
    "version": 2
   },
   "file_extension": ".py",
   "mimetype": "text/x-python",
   "name": "python",
   "nbconvert_exporter": "python",
   "pygments_lexer": "ipython2",
   "version": "2.7.6"
  }
 },
 "nbformat": 4,
 "nbformat_minor": 5
}
